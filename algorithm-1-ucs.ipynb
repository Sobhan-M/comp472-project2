{
 "cells": [
  {
   "cell_type": "markdown",
   "metadata": {},
   "source": [
    "# Uniform Cost Search\n",
    "This file contains the algorithm implemented using uniform cost search, where the cost is the number of moves."
   ]
  },
  {
   "cell_type": "code",
   "execution_count": 1,
   "metadata": {},
   "outputs": [],
   "source": [
    "from car import *\n",
    "from grid import *\n",
    "from position import *\n",
    "from node import *\n",
    "from priorityqueue import *\n",
    "\n",
    "import numpy as np"
   ]
  },
  {
   "cell_type": "markdown",
   "metadata": {},
   "source": [
    "## Examples"
   ]
  },
  {
   "cell_type": "code",
   "execution_count": 2,
   "metadata": {},
   "outputs": [],
   "source": [
    "example1 = \"IIB...C.BHHHC.AAD.....D.EEGGGF.....F\"\n",
    "example2 = \"C.B...C.BHHHAADD........EEGGGF.....F\"\n",
    "example3 = \"....F...B.F.AABCF....CDD...C....EE..\"\n",
    "example4 = \"....F...B.F.AABCF....C.....C....EE..\""
   ]
  },
  {
   "cell_type": "code",
   "execution_count": null,
   "metadata": {},
   "outputs": [],
   "source": []
  },
  {
   "cell_type": "markdown",
   "metadata": {},
   "source": [
    "## UCS"
   ]
  },
  {
   "cell_type": "markdown",
   "metadata": {},
   "source": [
    "Initializing the open list."
   ]
  },
  {
   "cell_type": "code",
   "execution_count": 13,
   "metadata": {},
   "outputs": [],
   "source": [
    "root = Node(Grid(example1), generateCarList(example1))\n",
    "open = PriorityQueue(lambda n: n.cost())\n",
    "open.insert(root)"
   ]
  },
  {
   "cell_type": "markdown",
   "metadata": {},
   "source": [
    "Initializing the closed list."
   ]
  },
  {
   "cell_type": "code",
   "execution_count": 14,
   "metadata": {},
   "outputs": [],
   "source": [
    "closed = []"
   ]
  },
  {
   "cell_type": "markdown",
   "metadata": {},
   "source": [
    "The main loop of UCS."
   ]
  },
  {
   "cell_type": "code",
   "execution_count": 15,
   "metadata": {},
   "outputs": [
    {
     "ename": "KeyboardInterrupt",
     "evalue": "",
     "output_type": "error",
     "traceback": [
      "\u001b[1;31m---------------------------------------------------------------------------\u001b[0m",
      "\u001b[1;31mKeyboardInterrupt\u001b[0m                         Traceback (most recent call last)",
      "Cell \u001b[1;32mIn [15], line 9\u001b[0m\n\u001b[0;32m      7\u001b[0m children \u001b[39m=\u001b[39m visiting\u001b[39m.\u001b[39mexpandChildren()\n\u001b[0;32m      8\u001b[0m \u001b[39mfor\u001b[39;00m child \u001b[39min\u001b[39;00m children:\n\u001b[1;32m----> 9\u001b[0m \t\u001b[39mif\u001b[39;00m isInList(child, closed):\n\u001b[0;32m     10\u001b[0m \t\t\u001b[39mcontinue\u001b[39;00m\n\u001b[0;32m     11\u001b[0m \t\u001b[39mif\u001b[39;00m isInList(child, \u001b[39mopen\u001b[39m\u001b[39m.\u001b[39marray):\n",
      "File \u001b[1;32mc:\\Users\\subha\\src\\comp472-project2\\priorityqueue.py:66\u001b[0m, in \u001b[0;36misInList\u001b[1;34m(obj, array)\u001b[0m\n\u001b[0;32m     64\u001b[0m \u001b[39mdef\u001b[39;00m \u001b[39misInList\u001b[39m(obj, array):\n\u001b[0;32m     65\u001b[0m \t\u001b[39mfor\u001b[39;00m element \u001b[39min\u001b[39;00m array:\n\u001b[1;32m---> 66\u001b[0m \t\t\u001b[39mif\u001b[39;00m obj \u001b[39m==\u001b[39;49m element:\n\u001b[0;32m     67\u001b[0m \t\t\t\u001b[39mreturn\u001b[39;00m \u001b[39mTrue\u001b[39;00m\n\u001b[0;32m     68\u001b[0m \t\u001b[39mreturn\u001b[39;00m \u001b[39mFalse\u001b[39;00m\n",
      "File \u001b[1;32mc:\\Users\\subha\\src\\comp472-project2\\node.py:20\u001b[0m, in \u001b[0;36mNode.__eq__\u001b[1;34m(self, other)\u001b[0m\n\u001b[0;32m     17\u001b[0m \u001b[39mif\u001b[39;00m \u001b[39mnot\u001b[39;00m \u001b[39misinstance\u001b[39m(other, Node):\n\u001b[0;32m     18\u001b[0m \t\u001b[39mreturn\u001b[39;00m \u001b[39mFalse\u001b[39;00m\n\u001b[1;32m---> 20\u001b[0m \u001b[39mif\u001b[39;00m \u001b[39mself\u001b[39;49m\u001b[39m.\u001b[39;49mgrid \u001b[39m!=\u001b[39;49m other\u001b[39m.\u001b[39;49mgrid:\n\u001b[0;32m     21\u001b[0m \t\u001b[39mreturn\u001b[39;00m \u001b[39mFalse\u001b[39;00m\n\u001b[0;32m     23\u001b[0m \u001b[39mif\u001b[39;00m \u001b[39mlen\u001b[39m(\u001b[39mself\u001b[39m\u001b[39m.\u001b[39mcars) \u001b[39m!=\u001b[39m \u001b[39mlen\u001b[39m(other\u001b[39m.\u001b[39mcars):\n",
      "File \u001b[1;32mc:\\Users\\subha\\src\\comp472-project2\\grid.py:27\u001b[0m, in \u001b[0;36mGrid.__eq__\u001b[1;34m(self, other)\u001b[0m\n\u001b[0;32m     25\u001b[0m \t\t\u001b[39mreturn\u001b[39;00m \u001b[39mFalse\u001b[39;00m\n\u001b[0;32m     26\u001b[0m \t\u001b[39mfor\u001b[39;00m j \u001b[39min\u001b[39;00m \u001b[39mrange\u001b[39m(\u001b[39mlen\u001b[39m(\u001b[39mself\u001b[39m\u001b[39m.\u001b[39mgrid[i])):\n\u001b[1;32m---> 27\u001b[0m \t\t\u001b[39mif\u001b[39;00m \u001b[39mself\u001b[39;49m\u001b[39m.\u001b[39;49mgrid[i][j] \u001b[39m!=\u001b[39m other\u001b[39m.\u001b[39mgrid[i][j]:\n\u001b[0;32m     28\u001b[0m \t\t\t\u001b[39mreturn\u001b[39;00m \u001b[39mFalse\u001b[39;00m\n\u001b[0;32m     30\u001b[0m \u001b[39mreturn\u001b[39;00m \u001b[39mTrue\u001b[39;00m\n",
      "\u001b[1;31mKeyboardInterrupt\u001b[0m: "
     ]
    }
   ],
   "source": [
    "while not open.isEmpty():\n",
    "\tvisiting = open.removeMin()\n",
    "\tif visiting.isGoal():\n",
    "\t\tbreak\n",
    "\telse:\n",
    "\t\tclosed.insert(0, visiting)\n",
    "\tchildren = visiting.expandChildren()\n",
    "\tfor child in children:\n",
    "\t\tif isInList(child, closed):\n",
    "\t\t\tcontinue\n",
    "\t\tif isInList(child, open.array):\n",
    "\t\t\toldChildIndex = open.findIndex(child)\n",
    "\t\t\tif child.cost() < open.array[oldChildIndex].cost():\n",
    "\t\t\t\topen.array[oldChildIndex] = child\n",
    "\t\telse:\n",
    "\t\t\topen.insert(child)"
   ]
  },
  {
   "cell_type": "code",
   "execution_count": 10,
   "metadata": {},
   "outputs": [
    {
     "data": {
      "text/plain": [
       "49"
      ]
     },
     "execution_count": 10,
     "metadata": {},
     "output_type": "execute_result"
    }
   ],
   "source": [
    "len(open.array)"
   ]
  },
  {
   "cell_type": "code",
   "execution_count": 11,
   "metadata": {},
   "outputs": [
    {
     "name": "stdout",
     "output_type": "stream",
     "text": [
      "C  .  B  .  .  .\n",
      "C  .  B  H  H  H\n",
      ".  .  .  .  .  .\n",
      ".  .  .  .  .  .\n",
      "E  E  G  G  G  F\n",
      ".  .  .  .  .  F\n",
      "\n"
     ]
    }
   ],
   "source": [
    "print(visiting.grid)\n",
    "node = visiting\n",
    "moves = []\n",
    "while not node.isRoot():\n",
    "\tmoves.insert(0, node.move)\n",
    "\tnode = node.parent"
   ]
  },
  {
   "cell_type": "code",
   "execution_count": 12,
   "metadata": {},
   "outputs": [
    {
     "name": "stdout",
     "output_type": "stream",
     "text": [
      "D right 2\n",
      "A right 4\n"
     ]
    }
   ],
   "source": [
    "for move in moves:\n",
    "\tprint(move)"
   ]
  }
 ],
 "metadata": {
  "kernelspec": {
   "display_name": "Python 3.9.6 64-bit",
   "language": "python",
   "name": "python3"
  },
  "language_info": {
   "codemirror_mode": {
    "name": "ipython",
    "version": 3
   },
   "file_extension": ".py",
   "mimetype": "text/x-python",
   "name": "python",
   "nbconvert_exporter": "python",
   "pygments_lexer": "ipython3",
   "version": "3.9.6"
  },
  "orig_nbformat": 4,
  "vscode": {
   "interpreter": {
    "hash": "81794d4967e6c3204c66dcd87b604927b115b27c00565d3d43f05ba2f3a2cb0d"
   }
  }
 },
 "nbformat": 4,
 "nbformat_minor": 2
}
