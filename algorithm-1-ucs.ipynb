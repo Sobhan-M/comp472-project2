{
 "cells": [
  {
   "cell_type": "markdown",
   "metadata": {},
   "source": [
    "# Uniform Cost Search\n",
    "This file contains the algorithm implemented using uniform cost search, where the cost is the number of moves."
   ]
  },
  {
   "cell_type": "code",
   "execution_count": 1,
   "metadata": {},
   "outputs": [],
   "source": [
    "from car import *\n",
    "from grid import *\n",
    "from position import *\n",
    "from node import *\n",
    "from priorityqueue import *\n",
    "\n",
    "import numpy as np"
   ]
  },
  {
   "cell_type": "markdown",
   "metadata": {},
   "source": [
    "## Examples"
   ]
  },
  {
   "cell_type": "code",
   "execution_count": 2,
   "metadata": {},
   "outputs": [],
   "source": [
    "example1 = \"IIB...C.BHHHC.AAD.....D.EEGGGF.....F\"\n",
    "example2 = \"C.B...C.BHHHAADD........EEGGGF.....F\"\n",
    "example3 = \"....F...B.F.AABCF....CDD...C....EE..\"\n",
    "example4 = \"....F...B.F.AABCF....C.....C....EE..\""
   ]
  },
  {
   "cell_type": "code",
   "execution_count": null,
   "metadata": {},
   "outputs": [],
   "source": []
  },
  {
   "cell_type": "markdown",
   "metadata": {},
   "source": [
    "## UCS"
   ]
  },
  {
   "cell_type": "markdown",
   "metadata": {},
   "source": [
    "Initializing the open list."
   ]
  },
  {
   "cell_type": "code",
   "execution_count": 14,
   "metadata": {},
   "outputs": [],
   "source": [
    "root = Node(Grid(example1), generateCarList(example1))\n",
    "open = PriorityQueue(lambda n: n.cost())\n",
    "open.insert(root)"
   ]
  },
  {
   "cell_type": "markdown",
   "metadata": {},
   "source": [
    "Initializing the closed list."
   ]
  },
  {
   "cell_type": "code",
   "execution_count": 15,
   "metadata": {},
   "outputs": [],
   "source": [
    "closed = dict()"
   ]
  },
  {
   "cell_type": "markdown",
   "metadata": {},
   "source": [
    "The main loop of UCS."
   ]
  },
  {
   "cell_type": "code",
   "execution_count": 16,
   "metadata": {},
   "outputs": [],
   "source": [
    "while not open.isEmpty():\n",
    "\tvisiting = open.removeMin()\n",
    "\tif visiting.isGoal():\n",
    "\t\tbreak\n",
    "\telse:\n",
    "\t\tclosed[str(visiting)] = visiting\n",
    "\tchildren = visiting.expandChildren()\n",
    "\tfor child in children:\n",
    "\t\tif closed.get(str(child)) is not None:\n",
    "\t\t\tcontinue\n",
    "\t\tif open.hash.get(str(child)) is not None:\n",
    "\t\t\tif child.cost() < open.hash[str(child)].cost():\n",
    "\t\t\t\topen.insert(child)\n",
    "\t\telse:\n",
    "\t\t\topen.insert(child)"
   ]
  },
  {
   "cell_type": "code",
   "execution_count": 17,
   "metadata": {},
   "outputs": [
    {
     "data": {
      "text/plain": [
       "8338"
      ]
     },
     "execution_count": 17,
     "metadata": {},
     "output_type": "execute_result"
    }
   ],
   "source": [
    "len(open.hash)"
   ]
  },
  {
   "cell_type": "code",
   "execution_count": 18,
   "metadata": {},
   "outputs": [
    {
     "name": "stdout",
     "output_type": "stream",
     "text": [
      ".  .  .  .  .  .\n",
      ".  .  .  .  .  .\n",
      ".  .  .  .  .  .\n",
      ".  .  B  C  F  .\n",
      ".  .  B  C  F  .\n",
      ".  E  E  C  F  .\n",
      "\n"
     ]
    }
   ],
   "source": [
    "print(visiting.grid)\n",
    "node = visiting\n",
    "moves = []\n",
    "while not node.isRoot():\n",
    "\tmoves.insert(0, node.move)\n",
    "\tnode = node.parent"
   ]
  },
  {
   "cell_type": "code",
   "execution_count": 19,
   "metadata": {},
   "outputs": [
    {
     "name": "stdout",
     "output_type": "stream",
     "text": [
      "B down 2\n",
      "E left 1\n",
      "C down 1\n",
      "F down 3\n",
      "A right 4\n"
     ]
    }
   ],
   "source": [
    "for move in moves:\n",
    "\tprint(move)"
   ]
  }
 ],
 "metadata": {
  "kernelspec": {
   "display_name": "Python 3.9.6 64-bit",
   "language": "python",
   "name": "python3"
  },
  "language_info": {
   "codemirror_mode": {
    "name": "ipython",
    "version": 3
   },
   "file_extension": ".py",
   "mimetype": "text/x-python",
   "name": "python",
   "nbconvert_exporter": "python",
   "pygments_lexer": "ipython3",
   "version": "3.9.6"
  },
  "orig_nbformat": 4,
  "vscode": {
   "interpreter": {
    "hash": "81794d4967e6c3204c66dcd87b604927b115b27c00565d3d43f05ba2f3a2cb0d"
   }
  }
 },
 "nbformat": 4,
 "nbformat_minor": 2
}
