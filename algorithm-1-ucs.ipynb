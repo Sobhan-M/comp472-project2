{
 "cells": [
  {
   "cell_type": "markdown",
   "metadata": {},
   "source": [
    "# Uniform Cost Search\n",
    "This file contains the algorithm implemented using uniform cost search, where the cost is the number of moves."
   ]
  },
  {
   "cell_type": "code",
   "execution_count": 1,
   "metadata": {},
   "outputs": [],
   "source": [
    "from car import Car\n",
    "from node import Node\n",
    "from grid import Grid\n",
    "import numpy as np"
   ]
  },
  {
   "cell_type": "code",
   "execution_count": 2,
   "metadata": {},
   "outputs": [],
   "source": [
    "example3 = \"....F...B.F.AABCF....CDD...C....EE..\""
   ]
  },
  {
   "cell_type": "code",
   "execution_count": 3,
   "metadata": {},
   "outputs": [],
   "source": [
    "grid = Grid(example3)"
   ]
  },
  {
   "cell_type": "markdown",
   "metadata": {},
   "source": [
    "How to generate cars from a string.\n",
    "Create importer class that will handle this."
   ]
  },
  {
   "cell_type": "code",
   "execution_count": 4,
   "metadata": {},
   "outputs": [
    {
     "name": "stdout",
     "output_type": "stream",
     "text": [
      "['F', 'C', 'D', 'E', 'B', 'A']\n"
     ]
    }
   ],
   "source": [
    "def findCarSymbols(string:str):\n",
    "\tsymbols = []\n",
    "\tcharacters = set(string)\n",
    "\t# Create a car for each symbol.\n",
    "\tfor character in characters:\n",
    "\t\tif character == \".\":\n",
    "\t\t\tcontinue\n",
    "\t\tsymbols.append(character)\n",
    "\treturn symbols\n",
    "print(findCarSymbols(example3))\n"
   ]
  },
  {
   "cell_type": "markdown",
   "metadata": {},
   "source": [
    "Now to find orientation and positions."
   ]
  },
  {
   "cell_type": "code",
   "execution_count": 18,
   "metadata": {},
   "outputs": [],
   "source": [
    "def findCarPositions(string:str, symbols:list):\n",
    "\tallPositions = []\n",
    "\tfor symbol in symbols:\n",
    "\t\tsymbolPositions = []\n",
    "\t\tstartIndex = 0\n",
    "\t\tindex = 0\n",
    "\t\twhile index != -1:\n",
    "\t\t\tindex = string.find(symbol, startIndex)\n",
    "\t\t\tif index != -1:\n",
    "\t\t\t\tsymbolPositions.append((index // 6, index % 6))\n",
    "\t\t\tstartIndex = index + 1\n",
    "\t\tallPositions.append(symbolPositions)\n",
    "\treturn allPositions\n",
    "print(findCarPositions(example3, findCarSymbols(example3)))"
   ]
  },
  {
   "cell_type": "code",
   "execution_count": 20,
   "metadata": {},
   "outputs": [
    {
     "name": "stdout",
     "output_type": "stream",
     "text": [
      "[3, 3, 2, 2, 2, 2]\n"
     ]
    }
   ],
   "source": [
    "def findCarLengths1(string:str, symbols:list):\n",
    "\tlengths = []\n",
    "\tfor symbol in symbols:\n",
    "\t\tlengths.append(string.count(symbol))\n",
    "\treturn lengths\n",
    "print(findCarLengths1(example3, findCarSymbols(example3)))"
   ]
  },
  {
   "cell_type": "code",
   "execution_count": 23,
   "metadata": {},
   "outputs": [
    {
     "name": "stdout",
     "output_type": "stream",
     "text": [
      "[3, 3, 2, 2, 2, 2]\n"
     ]
    }
   ],
   "source": [
    "def findCarLengths2(positions):\n",
    "\tlengths = []\n",
    "\tfor position in positions:\n",
    "\t\tlengths.append(len(position))\n",
    "\treturn lengths\n",
    "print(findCarLengths2(findCarPositions(example3, findCarSymbols(example3))))"
   ]
  },
  {
   "cell_type": "code",
   "execution_count": 26,
   "metadata": {},
   "outputs": [
    {
     "name": "stdout",
     "output_type": "stream",
     "text": [
      "['y', 'y', 'x', 'x', 'y', 'x']\n"
     ]
    }
   ],
   "source": [
    "def findCarOrientations(positions):\n",
    "\torientations = []\n",
    "\tfor position in positions:\n",
    "\t\tif position[0][0] == position[1][0]: # The Ys match.\n",
    "\t\t\torientations.append(\"x\")\n",
    "\t\telse:\n",
    "\t\t\torientations.append(\"y\")\n",
    "\treturn orientations\n",
    "print(findCarOrientations(findCarPositions(example3, findCarSymbols(example3))))\n",
    "print()"
   ]
  }
 ],
 "metadata": {
  "kernelspec": {
   "display_name": "Python 3.9.6 64-bit",
   "language": "python",
   "name": "python3"
  },
  "language_info": {
   "codemirror_mode": {
    "name": "ipython",
    "version": 3
   },
   "file_extension": ".py",
   "mimetype": "text/x-python",
   "name": "python",
   "nbconvert_exporter": "python",
   "pygments_lexer": "ipython3",
   "version": "3.9.6"
  },
  "orig_nbformat": 4,
  "vscode": {
   "interpreter": {
    "hash": "81794d4967e6c3204c66dcd87b604927b115b27c00565d3d43f05ba2f3a2cb0d"
   }
  }
 },
 "nbformat": 4,
 "nbformat_minor": 2
}
