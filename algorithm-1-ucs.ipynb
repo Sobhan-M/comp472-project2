{
 "cells": [
  {
   "cell_type": "markdown",
   "metadata": {},
   "source": [
    "# Uniform Cost Search\n",
    "This file contains the algorithm implemented using uniform cost search, where the cost is the number of moves."
   ]
  },
  {
   "cell_type": "code",
   "execution_count": 1,
   "metadata": {},
   "outputs": [],
   "source": [
    "from car import *\n",
    "from grid import *\n",
    "from position import *\n",
    "from node import *\n",
    "from priorityqueue import *\n",
    "\n",
    "import numpy as np"
   ]
  },
  {
   "cell_type": "markdown",
   "metadata": {},
   "source": [
    "## Examples"
   ]
  },
  {
   "cell_type": "code",
   "execution_count": 2,
   "metadata": {},
   "outputs": [],
   "source": [
    "example1 = \"IIB...C.BHHHC.AAD.....D.EEGGGF.....F\"\n",
    "example2 = \"C.B...C.BHHHAADD........EEGGGF.....F\"\n",
    "example3 = \"....F...B.F.AABCF....CDD...C....EE..\"\n",
    "example4 = \"....F...B.F.AABCF....C.....C....EE..\""
   ]
  },
  {
   "cell_type": "markdown",
   "metadata": {},
   "source": [
    "## UCS"
   ]
  },
  {
   "cell_type": "markdown",
   "metadata": {},
   "source": [
    "Initializing the open list."
   ]
  },
  {
   "cell_type": "code",
   "execution_count": 17,
   "metadata": {},
   "outputs": [],
   "source": [
    "root = Node(Grid(example1), generateCarList(example1))\n",
    "open = PriorityQueue(lambda n: n.cost())\n",
    "open.insert(root)"
   ]
  },
  {
   "cell_type": "markdown",
   "metadata": {},
   "source": [
    "Initializing the closed list."
   ]
  },
  {
   "cell_type": "code",
   "execution_count": 18,
   "metadata": {},
   "outputs": [],
   "source": [
    "closed = dict()"
   ]
  },
  {
   "cell_type": "markdown",
   "metadata": {},
   "source": [
    "The main loop of UCS."
   ]
  },
  {
   "cell_type": "code",
   "execution_count": 19,
   "metadata": {},
   "outputs": [],
   "source": [
    "goalNode = None\n",
    "while not open.isEmpty():\n",
    "\tvisiting = open.removeMin()\n",
    "\tif visiting.isGoal():\n",
    "\t\tgoalNode = visiting\n",
    "\t\tbreak\n",
    "\telse:\n",
    "\t\tclosed[str(visiting)] = visiting\n",
    "\tchildren = visiting.expandChildren()\n",
    "\tfor child in children:\n",
    "\t\tif child.isGoal():\n",
    "\t\t\tgoalNode = child\n",
    "\t\t\tbreak\n",
    "\t\tif closed.get(str(child)) is not None:\n",
    "\t\t\tcontinue\n",
    "\t\tif open.getValue(child) is not None:\n",
    "\t\t\tif child.cost() < open.getValue(child).cost():\n",
    "\t\t\t\topen.updateValue(child)\n",
    "\t\telse:\n",
    "\t\t\topen.insert(child)\n",
    "\tif goalNode is not None:\n",
    "\t\tbreak"
   ]
  },
  {
   "cell_type": "code",
   "execution_count": 20,
   "metadata": {},
   "outputs": [
    {
     "name": "stdout",
     "output_type": "stream",
     "text": [
      "516\n",
      "dict_keys([17, 18])\n"
     ]
    }
   ],
   "source": [
    "print(open.length)\n",
    "print(open.hash.keys())"
   ]
  },
  {
   "cell_type": "code",
   "execution_count": 21,
   "metadata": {},
   "outputs": [
    {
     "name": "stdout",
     "output_type": "stream",
     "text": [
      "C . I I D F\n",
      "C H H H D F\n",
      ". . . . A A\n",
      ". . . . . .\n",
      "E E B G G G\n",
      ". . B . . .\n",
      "\n"
     ]
    }
   ],
   "source": [
    "print(goalNode.grid)\n",
    "node = goalNode\n",
    "moves = []\n",
    "while not node.isRoot():\n",
    "\tmoves.insert(0, node.move)\n",
    "\tnode = node.parent"
   ]
  },
  {
   "cell_type": "code",
   "execution_count": 22,
   "metadata": {},
   "outputs": [
    {
     "name": "stdout",
     "output_type": "stream",
     "text": [
      "F up 2\n",
      "G right 1\n",
      "E right 1\n",
      "C down 3\n",
      "A left 2\n",
      "B down 2\n",
      "I right 4\n",
      "B up 2\n",
      "A right 2\n",
      "C up 4\n",
      "E left 1\n",
      "A left 2\n",
      "B down 4\n",
      "I left 2\n",
      "H left 2\n",
      "D up 2\n",
      "F up 2\n",
      "A right 4\n"
     ]
    }
   ],
   "source": [
    "for move in moves:\n",
    "\tprint(move)"
   ]
  }
 ],
 "metadata": {
  "kernelspec": {
   "display_name": "Python 3.9.6 64-bit",
   "language": "python",
   "name": "python3"
  },
  "language_info": {
   "codemirror_mode": {
    "name": "ipython",
    "version": 3
   },
   "file_extension": ".py",
   "mimetype": "text/x-python",
   "name": "python",
   "nbconvert_exporter": "python",
   "pygments_lexer": "ipython3",
   "version": "3.9.6"
  },
  "orig_nbformat": 4,
  "vscode": {
   "interpreter": {
    "hash": "81794d4967e6c3204c66dcd87b604927b115b27c00565d3d43f05ba2f3a2cb0d"
   }
  }
 },
 "nbformat": 4,
 "nbformat_minor": 2
}
