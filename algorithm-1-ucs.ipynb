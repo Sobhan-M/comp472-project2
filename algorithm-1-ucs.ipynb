{
 "cells": [
  {
   "cell_type": "markdown",
   "metadata": {},
   "source": [
    "# Uniform Cost Search\n",
    "This file contains the algorithm implemented using uniform cost search, where the cost is the number of moves."
   ]
  },
  {
   "cell_type": "code",
   "execution_count": 1,
   "metadata": {},
   "outputs": [],
   "source": [
    "import car\n",
    "import grid\n",
    "import node\n",
    "import numpy as np"
   ]
  },
  {
   "cell_type": "markdown",
   "metadata": {},
   "source": [
    "## Examples"
   ]
  },
  {
   "cell_type": "code",
   "execution_count": 2,
   "metadata": {},
   "outputs": [],
   "source": [
    "example1 = \"IIB...C.BHHHC.AAD.....D.EEGGGF.....F\"\n",
    "example2 = \"C.B...C.BHHHAADD........EEGGGF.....F\"\n",
    "example3 = \"....F...B.F.AABCF....CDD...C....EE..\"\n",
    "example4 = \"....F...B.F.AABCF....C.....C....EE..\""
   ]
  },
  {
   "cell_type": "code",
   "execution_count": 3,
   "metadata": {},
   "outputs": [],
   "source": [
    "rootNode = node.Node(grid.Grid(example4), car.generateCarList(example4))"
   ]
  },
  {
   "cell_type": "code",
   "execution_count": 4,
   "metadata": {},
   "outputs": [
    {
     "name": "stdout",
     "output_type": "stream",
     "text": [
      ".  .  .  .  F  .\n",
      ".  .  B  .  F  .\n",
      "A  A  B  C  F  .\n",
      ".  .  .  C  .  .\n",
      ".  .  .  C  .  .\n",
      ".  .  E  E  .  .\n",
      "\n"
     ]
    }
   ],
   "source": [
    "grid4 = grid.Grid(example4)\n",
    "print(grid4)"
   ]
  },
  {
   "cell_type": "code",
   "execution_count": 9,
   "metadata": {},
   "outputs": [
    {
     "name": "stdout",
     "output_type": "stream",
     "text": [
      "[['.', '.', '.', '.', '.', '.'], ['.', '.', 'B', '.', 'F', '.'], ['A', 'A', 'B', 'C', 'F', '.'], ['.', '.', '.', 'C', '.', '.'], ['.', '.', '.', 'C', '.', '.'], ['.', '.', 'E', 'E', '.', '.']]\n",
      "[['.', '.', '.', '.', '.', '.'], ['.', '.', 'B', '.', 'F', '.'], ['A', 'A', 'B', 'C', 'F', '.'], ['.', '.', '.', 'C', '.', '.'], ['.', '.', '.', 'C', '.', '.'], ['.', '.', 'E', 'E', '.', '.']]\n",
      ".  .  .  .  .  .\n",
      ".  .  B  .  F  .\n",
      "A  A  B  C  F  .\n",
      ".  .  .  C  .  .\n",
      ".  .  .  C  .  .\n",
      ".  .  E  E  .  .\n",
      "\n"
     ]
    }
   ],
   "source": [
    "grid4Copy = grid4.grid[:]\n",
    "print(grid4Copy)\n",
    "grid4Copy[0][4] = \".\"\n",
    "print(grid4Copy)\n",
    "print(grid4)"
   ]
  }
 ],
 "metadata": {
  "kernelspec": {
   "display_name": "Python 3.9.6 64-bit",
   "language": "python",
   "name": "python3"
  },
  "language_info": {
   "codemirror_mode": {
    "name": "ipython",
    "version": 3
   },
   "file_extension": ".py",
   "mimetype": "text/x-python",
   "name": "python",
   "nbconvert_exporter": "python",
   "pygments_lexer": "ipython3",
   "version": "3.9.6"
  },
  "orig_nbformat": 4,
  "vscode": {
   "interpreter": {
    "hash": "81794d4967e6c3204c66dcd87b604927b115b27c00565d3d43f05ba2f3a2cb0d"
   }
  }
 },
 "nbformat": 4,
 "nbformat_minor": 2
}
