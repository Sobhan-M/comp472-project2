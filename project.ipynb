{
 "cells": [
  {
   "cell_type": "markdown",
   "metadata": {},
   "source": [
    "# Project\n",
    "This is the main file for project 2 in COMP 472.\n",
    "\n",
    "**Team:** Deus Ex Machina\n",
    "\n",
    "**Member(s):** Sobhan Mehrpour Kevishahi - 40122438\n",
    "\n",
    "**Github Repository :** [https://github.com/Sobhan-M/comp472-project2](https://github.com/Sobhan-M/comp472-project2)"
   ]
  },
  {
   "cell_type": "markdown",
   "metadata": {},
   "source": [
    "## Implementation Of Algorithms\n",
    "In this section I will be implementing the different search algorithms as methods. The implemented classes and functions have been included in separate Python files and are used to abstract away tedious aspects of the implementation."
   ]
  },
  {
   "cell_type": "code",
   "execution_count": 1,
   "metadata": {},
   "outputs": [],
   "source": [
    "# I realize this way of importing is not good practice, but I know there aren't any conflicts so I'm doing it anyway.\n",
    "\n",
    "from car import *\n",
    "from grid import *\n",
    "from position import *\n",
    "from node import *\n",
    "from priorityqueue import *\n",
    "from reporter import *\n",
    "from heuristics import *\n",
    "\n",
    "import numpy as np"
   ]
  },
  {
   "cell_type": "code",
   "execution_count": 2,
   "metadata": {},
   "outputs": [],
   "source": [
    "example1 = \"IIB...C.BHHHC.AAD.....D.EEGGGF.....F\"\n",
    "example2 = \"C.B...C.BHHHAADD........EEGGGF.....F\"\n",
    "example3 = \"...GF...BGF.AABCF....CDD...C....EE..\"\n",
    "example4 = \"....F...B.F.AABCF....C.....C....EE..\"\n",
    "example5 = \"BBBJCCH..J.KHAAJ.K..IDDLEEI..L....GG H3 K4 J3\"\n",
    "\n",
    "examples = [example1, example2, example3, example4, example5]"
   ]
  },
  {
   "cell_type": "markdown",
   "metadata": {},
   "source": [
    "### Uniform Cost Search\n",
    "This is the implementation of uniform cost search. This algorithm only uses the cost (distance from root node in this case) when choosing which node to expand."
   ]
  },
  {
   "cell_type": "code",
   "execution_count": 3,
   "metadata": {},
   "outputs": [],
   "source": [
    "def uniformCostSearch(puzzleLine:str, reportNumber=0, outputFileName=\"ucs\"):\n",
    "\t\"\"\"\n",
    "\tPerforms uniform cost search to find the solution of the puzzle.\n",
    "\tCreates the solution file and search file, based on the given name.\n",
    "\tReturns the goal node.\n",
    "\t\"\"\"\n",
    "\n",
    "\t# Preparing report.\n",
    "\treporter = Reporter(puzzleLine)\n",
    "\treporter.startTimer()\n",
    "\n",
    "\t# Setting things up.\n",
    "\troot = generateStartNode(puzzleLine)\n",
    "\topenList = PriorityQueue(lambda n: n.cost()) # The minimizing function is simply the cost.\n",
    "\topenList.insert(root)\n",
    "\tclosedList = dict()\n",
    "\tgoalNode = None\n",
    "\n",
    "\t# Main loop.\n",
    "\twhile not openList.isEmpty():\n",
    "\n",
    "\t\tvisiting = openList.removeMin()\n",
    "\t\treporter.countVisit()\n",
    "\t\treporter.addToSearchPath(visiting, lambda n: 0, lambda n: n.cost(), lambda n: 0)\n",
    "\n",
    "\t\tif visiting.isGoal():\n",
    "\t\t\tgoalNode = visiting\n",
    "\t\t\tbreak\n",
    "\t\telse:\n",
    "\t\t\tclosedList[str(visiting)] = visiting\n",
    "\n",
    "\t\tchildren = visiting.expandChildren()\n",
    "\n",
    "\t\tfor child in children:\n",
    "\t\t\tif closedList.get(str(child)) is not None: # Avoid visiting already visited nodes.\n",
    "\t\t\t\tcontinue\n",
    "\n",
    "\t\t\tif openList.getValue(child) is not None: # Update node if needed.\n",
    "\t\t\t\tif child.cost() < openList.getValue(child).cost():\n",
    "\t\t\t\t\topenList.updateValue(child)\n",
    "\t\t\telse:\n",
    "\t\t\t\topenList.insert(child)\n",
    "\n",
    "\t# Finalizing report.\n",
    "\treporter.endTimer()\n",
    "\treporter.setGoalNode(goalNode)\n",
    "\treport = reporter.generateSolutionReport()\n",
    "\n",
    "\tsolutionFileName = f\"{outputFileName}-sol-{reportNumber}.txt\"\n",
    "\tsearchFileName = f\"{outputFileName}-search-{reportNumber}.txt\"\n",
    "\n",
    "\twith open(solutionFileName, \"w\") as file:\n",
    "\t\tfile.write(report)\n",
    "\n",
    "\twith open(searchFileName, \"w\") as file:\n",
    "\t\tfile.write(\"\\n\".join(reporter.searchPath))\n",
    "\n",
    "\treturn goalNode"
   ]
  },
  {
   "cell_type": "code",
   "execution_count": 4,
   "metadata": {},
   "outputs": [],
   "source": [
    "# for i in range(5):\n",
    "# \tuniformCostSearch(examples[i], i+1, \"example-reports/ucs-example\")"
   ]
  },
  {
   "cell_type": "markdown",
   "metadata": {},
   "source": [
    "### Greedy Best First Search\n",
    "In this implementation we use a heuristic to determine which nodes to explore. This does not guarantee an optimal solution."
   ]
  },
  {
   "cell_type": "code",
   "execution_count": 5,
   "metadata": {},
   "outputs": [],
   "source": [
    "def greedyBestFirstSearch(puzzleLine:str, heuristic, reportNumber=0, outputFileName=\"gbfs\"):\n",
    "\t\"\"\"\n",
    "\tPerforms greedy best first search to find the solution of the puzzle.\n",
    "\tCreates the solution file and search file, based on the given name.\n",
    "\tReturns the goal node.\n",
    "\t\"\"\"\n",
    "\n",
    "\t# Preparing report.\n",
    "\treporter = Reporter(puzzleLine)\n",
    "\treporter.startTimer()\n",
    "\n",
    "\t# Setting things up.\n",
    "\troot = generateStartNode(puzzleLine)\n",
    "\topenList = PriorityQueue(lambda n: heuristic(n)) # The minimizing function is simply the cost.\n",
    "\topenList.insert(root)\n",
    "\tclosedList = dict()\n",
    "\tgoalNode = None\n",
    "\n",
    "\t# Main loop.\n",
    "\twhile not openList.isEmpty():\n",
    "\n",
    "\t\tvisiting = openList.removeMin()\n",
    "\t\treporter.countVisit()\n",
    "\t\treporter.addToSearchPath(visiting, lambda n: 0, lambda n: 0, lambda n: heuristic(n))\n",
    "\n",
    "\t\tif visiting.isGoal():\n",
    "\t\t\tgoalNode = visiting\n",
    "\t\t\tbreak\n",
    "\t\telse:\n",
    "\t\t\tclosedList[str(visiting)] = visiting\n",
    "\n",
    "\t\tchildren = visiting.expandChildren()\n",
    "\n",
    "\t\tfor child in children:\n",
    "\t\t\tif child.isGoal():\n",
    "\t\t\t\tgoalNode = child\n",
    "\t\t\t\tbreak\n",
    "\n",
    "\t\t\tif closedList.get(str(child)) is not None: # Avoid visiting already visited nodes.\n",
    "\t\t\t\tcontinue\n",
    "\n",
    "\t\t\tif openList.getValue(child) is not None: # Avoid visiting a child node already in the open list. Heuristics don't change.\n",
    "\t\t\t\tcontinue\n",
    "\n",
    "\t\t\topenList.insert(child)\n",
    "\n",
    "\t\tif goalNode is not None:\n",
    "\t\t\t# Counting the child if it's the goal node.\n",
    "\t\t\treporter.countVisit()\n",
    "\t\t\treporter.addToSearchPath(visiting, lambda n: 0, lambda n: 0, lambda n: heuristic(n))\n",
    "\t\t\tbreak\n",
    "\n",
    "\t# Finalizing report.\n",
    "\treporter.endTimer()\n",
    "\treporter.setGoalNode(goalNode)\n",
    "\treport = reporter.generateSolutionReport()\n",
    "\n",
    "\tsolutionFileName = f\"{outputFileName}-sol-{reportNumber}.txt\"\n",
    "\tsearchFileName = f\"{outputFileName}-search-{reportNumber}.txt\"\n",
    "\n",
    "\twith open(solutionFileName, \"w\") as file:\n",
    "\t\tfile.write(report)\n",
    "\n",
    "\twith open(searchFileName, \"w\") as file:\n",
    "\t\tfile.write(\"\\n\".join(reporter.searchPath))\n",
    "\n",
    "\treturn goalNode\n",
    "\n",
    "\t"
   ]
  },
  {
   "cell_type": "code",
   "execution_count": 6,
   "metadata": {},
   "outputs": [],
   "source": [
    "# for i in range(5):\n",
    "# \tgreedyBestFirstSearch(examples[i], h1, i+1, \"example-reports/gbfs-example\")"
   ]
  }
 ],
 "metadata": {
  "kernelspec": {
   "display_name": "Python 3.9.6 64-bit",
   "language": "python",
   "name": "python3"
  },
  "language_info": {
   "codemirror_mode": {
    "name": "ipython",
    "version": 3
   },
   "file_extension": ".py",
   "mimetype": "text/x-python",
   "name": "python",
   "nbconvert_exporter": "python",
   "pygments_lexer": "ipython3",
   "version": "3.9.6"
  },
  "orig_nbformat": 4,
  "vscode": {
   "interpreter": {
    "hash": "81794d4967e6c3204c66dcd87b604927b115b27c00565d3d43f05ba2f3a2cb0d"
   }
  }
 },
 "nbformat": 4,
 "nbformat_minor": 2
}
