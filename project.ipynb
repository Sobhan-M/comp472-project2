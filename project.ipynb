{
 "cells": [
  {
   "cell_type": "markdown",
   "metadata": {},
   "source": [
    "# Project\n",
    "This is the main file for project 2 in COMP 472.\n",
    "\n",
    "**Team:** Deus Ex Machina\n",
    "\n",
    "**Member(s):** Sobhan Mehrpour Kevishahi - 40122438\n",
    "\n",
    "**Github Repository :** [https://github.com/Sobhan-M/comp472-project2](https://github.com/Sobhan-M/comp472-project2)"
   ]
  },
  {
   "cell_type": "markdown",
   "metadata": {},
   "source": [
    "## Implementation Of Algorithms\n",
    "In this section I will be implementing the different search algorithms as methods. The implemented classes and functions have been included in separate Python files and are used to abstract away tedious aspects of the implementation."
   ]
  },
  {
   "cell_type": "code",
   "execution_count": 1,
   "metadata": {},
   "outputs": [],
   "source": [
    "# I realize this way of importing is not good practice, but I know there aren't any conflicts so I'm doing it anyway.\n",
    "\n",
    "from car import *\n",
    "from grid import *\n",
    "from position import *\n",
    "from node import *\n",
    "from priorityqueue import *\n",
    "from reporter import *\n",
    "from heuristics import *\n",
    "from iomanager import *\n",
    "\n",
    "import numpy as np\n",
    "import time"
   ]
  },
  {
   "cell_type": "code",
   "execution_count": 2,
   "metadata": {},
   "outputs": [],
   "source": [
    "example1 = \"IIB...C.BHHHC.AAD.....D.EEGGGF.....F\"\n",
    "example2 = \"C.B...C.BHHHAADD........EEGGGF.....F\"\n",
    "example3 = \"...GF...BGF.AABCF....CDD...C....EE..\"\n",
    "example4 = \"....F...B.F.AABCF....C.....C....EE..\"\n",
    "\n",
    "examples = [example1, example2, example3, example4]"
   ]
  },
  {
   "cell_type": "markdown",
   "metadata": {},
   "source": [
    "### Uniform Cost Search\n",
    "This is the implementation of uniform cost search. This algorithm only uses the cost (distance from root node in this case) when choosing which node to expand."
   ]
  },
  {
   "cell_type": "code",
   "execution_count": 3,
   "metadata": {},
   "outputs": [],
   "source": [
    "def uniformCostSearch(puzzleLine:str, reportNumber=0, outputFileName=\"ucs\", shouldWriteReport=True):\n",
    "\t\"\"\"\n",
    "\tPerforms uniform cost search to find the solution of the puzzle.\n",
    "\tCreates the solution file and search file, based on the given name.\n",
    "\tReturns the goal node.\n",
    "\t\"\"\"\n",
    "\n",
    "\t# Preparing report.\n",
    "\treporter = Reporter(puzzleLine)\n",
    "\treporter.startTimer()\n",
    "\n",
    "\t# Setting things up.\n",
    "\troot = generateStartNode(puzzleLine)\n",
    "\topenList = PriorityQueue(lambda n: n.cost()) # The minimizing function is simply the cost.\n",
    "\topenList.insert(root)\n",
    "\tclosedList = dict()\n",
    "\tgoalNode = None\n",
    "\n",
    "\t# Main loop.\n",
    "\twhile not openList.isEmpty():\n",
    "\n",
    "\t\tvisiting = openList.removeMin()\n",
    "\t\treporter.countVisit()\n",
    "\t\treporter.addToSearchPath(visiting, lambda n: 0, lambda n: n.cost(), lambda n: 0)\n",
    "\n",
    "\t\tif visiting.isGoal():\n",
    "\t\t\tgoalNode = visiting\n",
    "\t\t\tbreak\n",
    "\t\telse:\n",
    "\t\t\tclosedList[str(visiting)] = visiting\n",
    "\n",
    "\t\tchildren = visiting.expandChildren()\n",
    "\n",
    "\t\tfor child in children:\n",
    "\t\t\tif closedList.get(str(child)) is not None: # Avoid visiting already visited nodes.\n",
    "\t\t\t\tcontinue\n",
    "\n",
    "\t\t\tif openList.getValue(child) is not None: # Update node if needed.\n",
    "\t\t\t\tif child.cost() < openList.getValue(child).cost():\n",
    "\t\t\t\t\topenList.updateValue(child)\n",
    "\t\t\telse:\n",
    "\t\t\t\topenList.insert(child)\n",
    "\n",
    "\t# Finalizing report.\n",
    "\treporter.endTimer()\n",
    "\treporter.setGoalNode(goalNode)\n",
    "\treport = reporter.generateSolutionReport()\n",
    "\n",
    "\tif shouldWriteReport:\n",
    "\t\tsolutionFileName = f\"{outputFileName}-sol-{reportNumber}.txt\"\n",
    "\t\tsearchFileName = f\"{outputFileName}-search-{reportNumber}.txt\"\n",
    "\n",
    "\t\twith open(solutionFileName, \"w\") as file:\n",
    "\t\t\tfile.write(report)\n",
    "\n",
    "\t\twith open(searchFileName, \"w\") as file:\n",
    "\t\t\tfile.write(\"\\n\".join(reporter.searchPath))\n",
    "\n",
    "\treturn goalNode, reporter"
   ]
  },
  {
   "cell_type": "code",
   "execution_count": 4,
   "metadata": {},
   "outputs": [],
   "source": [
    "# for i in range(4):\n",
    "# \tuniformCostSearch(examples[i], i+1, \"example-reports/ucs-example\")"
   ]
  },
  {
   "cell_type": "markdown",
   "metadata": {},
   "source": [
    "### Greedy Best First Search\n",
    "In this implementation we use a heuristic to determine which nodes to explore. This does not guarantee an optimal solution."
   ]
  },
  {
   "cell_type": "code",
   "execution_count": 5,
   "metadata": {},
   "outputs": [],
   "source": [
    "def greedyBestFirstSearch(puzzleLine:str, heuristic, reportNumber=0, outputFileName=\"gbfs\", shouldWriteReport=True):\n",
    "\t\"\"\"\n",
    "\tPerforms greedy best first search to find the solution of the puzzle.\n",
    "\tCreates the solution file and search file, based on the given name.\n",
    "\tReturns the goal node.\n",
    "\t\"\"\"\n",
    "\n",
    "\t# Preparing report.\n",
    "\treporter = Reporter(puzzleLine)\n",
    "\treporter.startTimer()\n",
    "\n",
    "\t# Setting things up.\n",
    "\troot = generateStartNode(puzzleLine)\n",
    "\topenList = PriorityQueue(lambda n: heuristic(n)) # The minimizing function is simply the heuristic.\n",
    "\topenList.insert(root)\n",
    "\tclosedList = dict()\n",
    "\tgoalNode = None\n",
    "\n",
    "\t# Main loop.\n",
    "\twhile not openList.isEmpty():\n",
    "\n",
    "\t\tvisiting = openList.removeMin()\n",
    "\t\treporter.countVisit()\n",
    "\t\treporter.addToSearchPath(visiting, lambda n: 0, lambda n: 0, lambda n: heuristic(n))\n",
    "\n",
    "\t\tif visiting.isGoal():\n",
    "\t\t\tgoalNode = visiting\n",
    "\t\t\tbreak\n",
    "\t\telse:\n",
    "\t\t\tclosedList[str(visiting)] = visiting\n",
    "\n",
    "\t\tchildren = visiting.expandChildren()\n",
    "\n",
    "\t\tfor child in children:\n",
    "\t\t\tif child.isGoal():\n",
    "\t\t\t\tgoalNode = child\n",
    "\t\t\t\tbreak\n",
    "\n",
    "\t\t\tif closedList.get(str(child)) is not None: # Avoid visiting already visited nodes.\n",
    "\t\t\t\tcontinue\n",
    "\n",
    "\t\t\tif openList.getValue(child) is not None: # Avoid visiting a child node already in the open list. Heuristics don't change.\n",
    "\t\t\t\tcontinue\n",
    "\n",
    "\t\t\topenList.insert(child)\n",
    "\n",
    "\t\tif goalNode is not None:\n",
    "\t\t\t# Counting the child if it's the goal node.\n",
    "\t\t\treporter.countVisit()\n",
    "\t\t\treporter.addToSearchPath(visiting, lambda n: 0, lambda n: 0, lambda n: heuristic(n))\n",
    "\t\t\tbreak\n",
    "\n",
    "\t# Finalizing report.\n",
    "\treporter.endTimer()\n",
    "\treporter.setGoalNode(goalNode)\n",
    "\treport = reporter.generateSolutionReport()\n",
    "\n",
    "\tif shouldWriteReport:\n",
    "\t\tsolutionFileName = f\"{outputFileName}-sol-{reportNumber}.txt\"\n",
    "\t\tsearchFileName = f\"{outputFileName}-search-{reportNumber}.txt\"\n",
    "\n",
    "\t\twith open(solutionFileName, \"w\") as file:\n",
    "\t\t\tfile.write(report)\n",
    "\n",
    "\t\twith open(searchFileName, \"w\") as file:\n",
    "\t\t\tfile.write(\"\\n\".join(reporter.searchPath))\n",
    "\n",
    "\treturn goalNode, reporter\n",
    "\n",
    "\t"
   ]
  },
  {
   "cell_type": "code",
   "execution_count": 6,
   "metadata": {},
   "outputs": [],
   "source": [
    "# for i in range(4):\n",
    "# \tgreedyBestFirstSearch(examples[i], h1, i+1, \"example-reports/gbfs-example\")"
   ]
  },
  {
   "cell_type": "markdown",
   "metadata": {},
   "source": [
    "### Algorithm A Search\n",
    "This implementation of algorithm A considers both the cost and the heuristic when choosing which node to visit."
   ]
  },
  {
   "cell_type": "code",
   "execution_count": 7,
   "metadata": {},
   "outputs": [],
   "source": [
    "def algorithmA(puzzleLine:str, heuristic, reportNumber=0, outputFileName=\"a\", shouldWriteReport=True):\n",
    "\t\"\"\"\n",
    "\tPerforms greedy best first search to find the solution of the puzzle.\n",
    "\tCreates the solution file and search file, based on the given name.\n",
    "\tReturns the goal node.\n",
    "\t\"\"\"\n",
    "\n",
    "\t# Preparing report.\n",
    "\treporter = Reporter(puzzleLine)\n",
    "\treporter.startTimer()\n",
    "\n",
    "\t# Setting things up.\n",
    "\tf = lambda n: heuristic(n) + n.cost()\n",
    "\th = lambda n: heuristic(n)\n",
    "\tg = lambda n: n.cost()\n",
    "\n",
    "\troot = generateStartNode(puzzleLine)\n",
    "\topenList = PriorityQueue(f) # The minimizing function is simply the cost.\n",
    "\topenList.insert(root)\n",
    "\tclosedList = dict()\n",
    "\tgoalNode = None\n",
    "\n",
    "\t# Main loop.\n",
    "\twhile not openList.isEmpty():\n",
    "\n",
    "\t\tvisiting = openList.removeMin()\n",
    "\t\treporter.countVisit()\n",
    "\t\treporter.addToSearchPath(visiting, f, g, h)\n",
    "\n",
    "\t\tif visiting.isGoal():\n",
    "\t\t\tgoalNode = visiting\n",
    "\t\t\tbreak\n",
    "\t\telse:\n",
    "\t\t\tclosedList[str(visiting)] = visiting\n",
    "\n",
    "\t\tchildren = visiting.expandChildren()\n",
    "\n",
    "\t\tfor child in children:\n",
    "\t\t\t\n",
    "\t\t\tclosedNode = closedList.get(str(child))\n",
    "\t\t\topenNode = openList.getValue(child)\n",
    "\t\t\t\n",
    "\t\t\tif closedNode is not None: # Handling the closed list.\n",
    "\t\t\t\tif f(child) < f(closedNode):\n",
    "\t\t\t\t\tclosedList.pop(str(child))\n",
    "\t\t\t\t\topenList.insert(child)\n",
    "\t\t\t\tcontinue\n",
    "\t\t\telif openNode is not None: # Handling open list.\n",
    "\t\t\t\tif f(child) < f(openNode):\n",
    "\t\t\t\t\topenList.updateValue(child)\n",
    "\t\t\t\tcontinue\n",
    "\t\t\telse:\n",
    "\t\t\t\topenList.insert(child)\n",
    "\n",
    "\t# Finalizing report.\n",
    "\treporter.endTimer()\n",
    "\treporter.setGoalNode(goalNode)\n",
    "\treport = reporter.generateSolutionReport()\n",
    "\n",
    "\tif shouldWriteReport:\n",
    "\t\tsolutionFileName = f\"{outputFileName}-sol-{reportNumber}.txt\"\n",
    "\t\tsearchFileName = f\"{outputFileName}-search-{reportNumber}.txt\"\n",
    "\n",
    "\t\twith open(solutionFileName, \"w\") as file:\n",
    "\t\t\tfile.write(report)\n",
    "\n",
    "\t\twith open(searchFileName, \"w\") as file:\n",
    "\t\t\tfile.write(\"\\n\".join(reporter.searchPath))\n",
    "\n",
    "\treturn goalNode, reporter\n",
    "\n",
    "\t"
   ]
  },
  {
   "cell_type": "code",
   "execution_count": 8,
   "metadata": {},
   "outputs": [],
   "source": [
    "# for i in range(4):\n",
    "# \talgorithmA(examples[i], h5, i+1, \"example-reports/a-example-h5\")"
   ]
  },
  {
   "cell_type": "markdown",
   "metadata": {},
   "source": [
    "## Report Generation\n",
    "Takes in a file and writes reports for each puzzle. This includes all solution files and search files."
   ]
  },
  {
   "cell_type": "code",
   "execution_count": 9,
   "metadata": {},
   "outputs": [],
   "source": [
    "def generateReports(fileName, outputDirectory=\"\"):\n",
    "\tpuzzles = extractPuzzleLines(fileName)\n",
    "\n",
    "\tfor i in range(len(puzzles)):\n",
    "\t\t# startTime = time.time()\n",
    "\t\t\n",
    "\t\tuniformCostSearch(puzzles[i], i, outputDirectory + \"ucs\")\n",
    "\n",
    "\t\tgreedyBestFirstSearch(puzzles[i], h1, i, outputDirectory + \"gbfs-h1\")\n",
    "\t\tgreedyBestFirstSearch(puzzles[i], h2, i, outputDirectory + \"gbfs-h2\")\n",
    "\t\tgreedyBestFirstSearch(puzzles[i], h3, i, outputDirectory + \"gbfs-h3\")\n",
    "\t\tgreedyBestFirstSearch(puzzles[i], h4, i, outputDirectory + \"gbfs-h4\")\n",
    "\t\tgreedyBestFirstSearch(puzzles[i], h5, i, outputDirectory + \"gbfs-h5\")\n",
    "\n",
    "\t\talgorithmA(puzzles[i], h1, i, outputDirectory + \"a-h1\")\n",
    "\t\talgorithmA(puzzles[i], h2, i, outputDirectory + \"a-h2\")\n",
    "\t\talgorithmA(puzzles[i], h3, i, outputDirectory + \"a-h3\")\n",
    "\t\talgorithmA(puzzles[i], h4, i, outputDirectory + \"a-h4\")\n",
    "\t\talgorithmA(puzzles[i], h5, i, outputDirectory + \"a-h5\")\n",
    "\n",
    "\t\t# endTime = time.time()\t\n",
    "\t\t# print(f\"Done with item {i} after {endTime - startTime} s.\")"
   ]
  },
  {
   "cell_type": "code",
   "execution_count": 10,
   "metadata": {},
   "outputs": [],
   "source": [
    "# generateReports(\"input/sample-input.txt\", \"output/samples/\")"
   ]
  },
  {
   "cell_type": "markdown",
   "metadata": {},
   "source": [
    "## Analysis Generation\n",
    "We can create a function that generates a CSV file that can easily be exported into a spreadsheet for more analysis."
   ]
  },
  {
   "cell_type": "code",
   "execution_count": 11,
   "metadata": {},
   "outputs": [],
   "source": [
    "def generateLine(puzzleNum:int, algorithm:str, heuristic:str, reporter:Reporter):\n",
    "\tsearchPathLength = reporter.nodesVisited\n",
    "\texecutionTime = reporter.timeElapsed()\n",
    "\n",
    "\tif reporter.goalNode is None:\n",
    "\t\tsolutionLength = \"N/A\"\n",
    "\telse:\n",
    "\t\tsolutionLength = reporter.countTotalMoves()\n",
    "\n",
    "\treturn \"{},{},{},{},{},{}\".format(puzzleNum, algorithm, heuristic, solutionLength, searchPathLength, executionTime)"
   ]
  },
  {
   "cell_type": "code",
   "execution_count": 12,
   "metadata": {},
   "outputs": [],
   "source": [
    "def generateSpreadsheet(inputFileName, outputFileName):\n",
    "\tpuzzles = extractPuzzleLines(inputFileName)\n",
    "\tresults = list()\n",
    "\tresults.append(\"Puzzle Number,Algorithm,Heuristic,Length of the Solution,Length of the Search Path,Execution Time (in seconds)\")\n",
    "\t\n",
    "\tfor i in range(len(puzzles)):\n",
    "\t\t# startTime = time.time()\n",
    "\n",
    "\t\treporter1 = uniformCostSearch(puzzles[i], i, shouldWriteReport=False)[1]\n",
    "\t\tresults.append(generateLine(i, \"UCS\", \"N/A\", reporter1))\n",
    "\n",
    "\t\treporter1 = greedyBestFirstSearch(puzzles[i], h1, i, shouldWriteReport=False)[1]\n",
    "\t\treporter2 = greedyBestFirstSearch(puzzles[i], h2, i, shouldWriteReport=False)[1]\n",
    "\t\treporter3 = greedyBestFirstSearch(puzzles[i], h3, i, shouldWriteReport=False)[1]\n",
    "\t\treporter4 = greedyBestFirstSearch(puzzles[i], h4, i, shouldWriteReport=False)[1]\n",
    "\t\treporter5 = greedyBestFirstSearch(puzzles[i], h5, i, shouldWriteReport=False)[1]\n",
    "\t\tresults.append(generateLine(i, \"GBFS\", \"h1\", reporter1))\n",
    "\t\tresults.append(generateLine(i, \"GBFS\", \"h2\", reporter2))\n",
    "\t\tresults.append(generateLine(i, \"GBFS\", \"h3\", reporter3))\n",
    "\t\tresults.append(generateLine(i, \"GBFS\", \"h4\", reporter4))\n",
    "\t\tresults.append(generateLine(i, \"GBFS\", \"h5\", reporter5))\n",
    "\n",
    "\t\treporter1 = algorithmA(puzzles[i], h1, i, shouldWriteReport=False)[1]\n",
    "\t\treporter2 = algorithmA(puzzles[i], h2, i, shouldWriteReport=False)[1]\n",
    "\t\treporter3 = algorithmA(puzzles[i], h3, i, shouldWriteReport=False)[1]\n",
    "\t\treporter4 = algorithmA(puzzles[i], h4, i, shouldWriteReport=False)[1]\n",
    "\t\treporter5 = algorithmA(puzzles[i], h5, i, shouldWriteReport=False)[1]\n",
    "\t\tresults.append(generateLine(i, \"A/A*\", \"h1\", reporter1))\n",
    "\t\tresults.append(generateLine(i, \"A/A*\", \"h2\", reporter2))\n",
    "\t\tresults.append(generateLine(i, \"A/A*\", \"h3\", reporter3))\n",
    "\t\tresults.append(generateLine(i, \"A/A*\", \"h4\", reporter4))\n",
    "\t\tresults.append(generateLine(i, \"A/A*\", \"h5\", reporter5))\n",
    "\n",
    "\t\t# endTime = time.time()\t\n",
    "\t\t# print(f\"Done with item {i} after {endTime - startTime} s.\")\n",
    "\n",
    "\twith open(outputFileName + \".csv\", \"w\") as file:\n",
    "\t\tfile.write(\"\\n\".join(results))"
   ]
  },
  {
   "cell_type": "code",
   "execution_count": 13,
   "metadata": {},
   "outputs": [],
   "source": [
    "# generateSpreadsheet(\"input/sample-input.txt\", \"output/sample-analysis\")"
   ]
  },
  {
   "cell_type": "markdown",
   "metadata": {},
   "source": [
    "### Puzzles\n",
    "Here I randomly generate some puzzles to use."
   ]
  },
  {
   "cell_type": "code",
   "execution_count": 14,
   "metadata": {},
   "outputs": [],
   "source": [
    "from randompuzzle import generateRandomPuzzle\n",
    "\n",
    "puzzles = list()\n",
    "for i in range(50):\n",
    "\tpuzzles.append(generateRandomPuzzle())\n",
    "\n",
    "with open(\"input/generated-puzzles-2.txt\", \"w\") as file:\n",
    "\tfile.write(\"\\n\".join(puzzles))"
   ]
  },
  {
   "cell_type": "markdown",
   "metadata": {},
   "source": [
    "Now I will create the analysis of these puzzles."
   ]
  },
  {
   "cell_type": "code",
   "execution_count": 15,
   "metadata": {},
   "outputs": [],
   "source": [
    "generateSpreadsheet(\"input/generated-puzzles-2.txt\", \"output/analysis-2\")"
   ]
  },
  {
   "cell_type": "markdown",
   "metadata": {},
   "source": [
    "### Analysis Results\n",
    "\n",
    "All this information can be easily accessed and viewed in `output/analysis.xlsx`."
   ]
  },
  {
   "cell_type": "markdown",
   "metadata": {},
   "source": [
    "#### 1. Solution Length\n",
    "\n",
    "- **Uniform Cost Search:** Has LOWEST cost.\n",
    "- **Algorithm A/A*:** Often has lowest cost, but not guaranteed. Except when admissible.\n",
    "- **Greedy Best First Search:** No guarantee of lowest cost.\n",
    "\n",
    "For puzzles, we had the lowest cost solution with **Uniform Cost Search** which is to be expected. In almost all cases, **Algorithm A/A\\*** also shared the lowest cost, except with `h3` which is to be expected as that heuristic is not admissible.\n",
    "\n",
    "In many puzzles, **Greedy Best First Search** also had the lowest cost (especially if the solution path is short), but it was never guaranteed. Again, this matches our expectation of the algorithm."
   ]
  },
  {
   "cell_type": "markdown",
   "metadata": {},
   "source": [
    "#### 2. Heuristic Admissibility\n",
    "\n",
    "- **h1:** The first heuristic **_is admissible_** because it counts the number of cars in the path of A. In order for A to get to the exit we must make at least one move per blocking car in order to open the path. Then A must make a final move to reach the exit. Therefore this heuristic is admissible and it will result in **Algorithm A/A\\*** guaranteeing the optimal solution.\n",
    "\n",
    "- **h2:** The second heuristic **_is NOT admissible_** because it counts the number of blocked position. To understand why, let us consider this simple example:\n",
    "```\n",
    ". . . . . .\n",
    ". . . . . .\n",
    "A A B B B .\n",
    ". . . . . .\n",
    ". . . . . .\n",
    ". . . . . .\n",
    "```\n",
    "The heuristic would be 3 in this instance, but we reach the solution in only 2 moves. The first move is from B to the right, which removes it from the grid. Then A reaches the exit in the next move. This shows that the heuristic is not admissible.\n",
    "\n",
    "- **h3:** The third heuristic **_is NOT admissible_** (assuming the constant must be an integer greater than 1). Consider the following example:\n",
    "```\n",
    ". . . . . .\n",
    ". . B C . .\n",
    "A A B C . .\n",
    ". . . . . .\n",
    ". . . . . .\n",
    ". . . . . .\n",
    "```\n",
    "We have 2 blocking vehicles, and the smallest constant would be 2. Therefore this heuristic gives us a value of 4. But we see that we can solve this puzzle in only 3 moves. B moves up for the first move. C moves up for the second move. Finally, A moves to the exit for the third move. This shows the heuristic is not admissible.\n",
    "\n",
    "- **h4:** This heuristic **_is admissible_**. The heuristic is designed to consider the distance of A to the exit to encourage moving A closer to the exit. This is because the other heuristics return a value of 0 even if we have not reached the goal state. This heuristic solves that issue by counting the distance to the exit cell and dividing it by 4. We divide by 4 to ensure admissibility, because we can move a maximum of 4 cells in a move. Therefore, we get 4/4=1 at the farthest point, then 3/4, 2/4, and 1/4 for intermediate points. Finally 0 when we are at the goal state.\n",
    "\n",
    "- **h5:** This heuristic **_is admissible_**. It is a combination of h1 and h4 and perfectly describes the situation mentioned when analysing h1. It considers both the blocking cars and the distance to the exit. And because blocking cars have more weight than moving closer to the exit, the heuristic will prioritize that. Once all the cars are out of the way, this heuristic will allow us to instantly find the solution, unlike h1, h2, and h3. "
   ]
  },
  {
   "cell_type": "markdown",
   "metadata": {},
   "source": [
    "#### 3. Execution Time\n",
    "\n",
    "Consider the following graphs of the data:\n",
    "- **Note:** The issue of negative times around puzzle 23 is a problem with the interpolating polynomial, not the data itself.\n",
    "\n",
    "<img src=\"output/solution-times-1.png\" height=500px>\n",
    "<img src=\"output/solution-times-2.png\" height=500px>\n",
    "\n",
    "In this case, we notice that an uninformed search (Uniform Cost Search) is often (but not always) one of the slowest algorithms. This is especially evident in puzzle 44, where UCS has a huge spike compared to other algorithms.\n",
    "\n",
    "Within a given algorithm, there seems to be little difference based on which heuristic is used. In some cases, certain heuristics will cause a sudden jump. But there doesn't appear to be any notable differences between them.\n",
    "\n"
   ]
  },
  {
   "cell_type": "markdown",
   "metadata": {},
   "source": [
    "#### 4. Search Paths\n",
    "\n",
    "Looking at the image below, it is interesting to note that the size of the search path differs drastically between algorithms. With **Uniform Cost Search** often having the largest search path and **Greedy Best First Search** often having the smallest. This falls in line with our expectations, as Uniform Cost Search systematically checks all low cost solution paths, even if they do not yield a solution. In addition, both Uniform Cost Search and Algorithm A/A* also reinsert certain nodes if the new cost is smaller, which means the algorithm could search the same node several times. Whereas Greedy Best First Search only ever searches an algorithm once.\n",
    "\n",
    "<img src=\"output/search-paths-1.png\" height=500px>\n",
    "\n",
    "It is also interesting to note that heuristic 4 tends to search more nodes than other algorithms. This may be due to the fact that this heuristic acts like Uniform Cost Search until the path to the exit is clear.\n",
    "\n",
    "<img src=\"output/search-paths-2.png\" height=500px>\n",
    "<img src=\"output/search-paths-3.png\" height=500px>"
   ]
  }
 ],
 "metadata": {
  "kernelspec": {
   "display_name": "Python 3.9.6 64-bit",
   "language": "python",
   "name": "python3"
  },
  "language_info": {
   "codemirror_mode": {
    "name": "ipython",
    "version": 3
   },
   "file_extension": ".py",
   "mimetype": "text/x-python",
   "name": "python",
   "nbconvert_exporter": "python",
   "pygments_lexer": "ipython3",
   "version": "3.9.6"
  },
  "orig_nbformat": 4,
  "vscode": {
   "interpreter": {
    "hash": "81794d4967e6c3204c66dcd87b604927b115b27c00565d3d43f05ba2f3a2cb0d"
   }
  }
 },
 "nbformat": 4,
 "nbformat_minor": 2
}
