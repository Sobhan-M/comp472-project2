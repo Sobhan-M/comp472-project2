{
 "cells": [
  {
   "cell_type": "markdown",
   "metadata": {},
   "source": [
    "# Project\n",
    "This is the main file for project 2 in COMP 472.\n",
    "\n",
    "**Team:** Deus Ex Machina\n",
    "\n",
    "**Member(s):** Sobhan Mehrpour Kevishahi - 40122438\n",
    "\n",
    "**Github Repository :** [https://github.com/Sobhan-M/comp472-project2](https://github.com/Sobhan-M/comp472-project2)"
   ]
  },
  {
   "cell_type": "markdown",
   "metadata": {},
   "source": [
    "## Implementation Of Algorithms\n",
    "In this section I will be implementing the different search algorithms as methods. The implemented classes and functions have been included in separate Python files and are used to abstract away tedious aspects of the implementation."
   ]
  },
  {
   "cell_type": "code",
   "execution_count": 1,
   "metadata": {},
   "outputs": [],
   "source": [
    "# I realize this way of importing is not good practice, but I know there aren't any conflicts so I'm doing it anyway.\n",
    "\n",
    "from car import *\n",
    "from grid import *\n",
    "from position import *\n",
    "from node import *\n",
    "from priorityqueue import *\n",
    "from reporter import *\n",
    "from heuristics import *\n",
    "from iomanager import *\n",
    "\n",
    "import numpy as np\n",
    "import time"
   ]
  },
  {
   "cell_type": "code",
   "execution_count": 2,
   "metadata": {},
   "outputs": [],
   "source": [
    "example1 = \"IIB...C.BHHHC.AAD.....D.EEGGGF.....F\"\n",
    "example2 = \"C.B...C.BHHHAADD........EEGGGF.....F\"\n",
    "example3 = \"...GF...BGF.AABCF....CDD...C....EE..\"\n",
    "example4 = \"....F...B.F.AABCF....C.....C....EE..\"\n",
    "example5 = \"BBBJCCH..J.KHAAJ.K..IDDLEEI..L....GG H3 K4 J3\"\n",
    "\n",
    "examples = [example1, example2, example3, example4, example5]"
   ]
  },
  {
   "cell_type": "markdown",
   "metadata": {},
   "source": [
    "### Uniform Cost Search\n",
    "This is the implementation of uniform cost search. This algorithm only uses the cost (distance from root node in this case) when choosing which node to expand."
   ]
  },
  {
   "cell_type": "code",
   "execution_count": 3,
   "metadata": {},
   "outputs": [],
   "source": [
    "def uniformCostSearch(puzzleLine:str, reportNumber=0, outputFileName=\"ucs\", shouldWriteReport=True):\n",
    "\t\"\"\"\n",
    "\tPerforms uniform cost search to find the solution of the puzzle.\n",
    "\tCreates the solution file and search file, based on the given name.\n",
    "\tReturns the goal node.\n",
    "\t\"\"\"\n",
    "\n",
    "\t# Preparing report.\n",
    "\treporter = Reporter(puzzleLine)\n",
    "\treporter.startTimer()\n",
    "\n",
    "\t# Setting things up.\n",
    "\troot = generateStartNode(puzzleLine)\n",
    "\topenList = PriorityQueue(lambda n: n.cost()) # The minimizing function is simply the cost.\n",
    "\topenList.insert(root)\n",
    "\tclosedList = dict()\n",
    "\tgoalNode = None\n",
    "\n",
    "\t# Main loop.\n",
    "\twhile not openList.isEmpty():\n",
    "\n",
    "\t\tvisiting = openList.removeMin()\n",
    "\t\treporter.countVisit()\n",
    "\t\treporter.addToSearchPath(visiting, lambda n: 0, lambda n: n.cost(), lambda n: 0)\n",
    "\n",
    "\t\tif visiting.isGoal():\n",
    "\t\t\tgoalNode = visiting\n",
    "\t\t\tbreak\n",
    "\t\telse:\n",
    "\t\t\tclosedList[str(visiting)] = visiting\n",
    "\n",
    "\t\tchildren = visiting.expandChildren()\n",
    "\n",
    "\t\tfor child in children:\n",
    "\t\t\tif closedList.get(str(child)) is not None: # Avoid visiting already visited nodes.\n",
    "\t\t\t\tcontinue\n",
    "\n",
    "\t\t\tif openList.getValue(child) is not None: # Update node if needed.\n",
    "\t\t\t\tif child.cost() < openList.getValue(child).cost():\n",
    "\t\t\t\t\topenList.updateValue(child)\n",
    "\t\t\telse:\n",
    "\t\t\t\topenList.insert(child)\n",
    "\n",
    "\t# Finalizing report.\n",
    "\treporter.endTimer()\n",
    "\treporter.setGoalNode(goalNode)\n",
    "\treport = reporter.generateSolutionReport()\n",
    "\n",
    "\tif shouldWriteReport:\n",
    "\t\tsolutionFileName = f\"{outputFileName}-sol-{reportNumber}.txt\"\n",
    "\t\tsearchFileName = f\"{outputFileName}-search-{reportNumber}.txt\"\n",
    "\n",
    "\t\twith open(solutionFileName, \"w\") as file:\n",
    "\t\t\tfile.write(report)\n",
    "\n",
    "\t\twith open(searchFileName, \"w\") as file:\n",
    "\t\t\tfile.write(\"\\n\".join(reporter.searchPath))\n",
    "\n",
    "\treturn goalNode, reporter"
   ]
  },
  {
   "cell_type": "code",
   "execution_count": 5,
   "metadata": {},
   "outputs": [
    {
     "data": {
      "text/plain": [
       "(None, <reporter.Reporter at 0x1fe45abb760>)"
      ]
     },
     "execution_count": 5,
     "metadata": {},
     "output_type": "execute_result"
    }
   ],
   "source": [
    "uniformCostSearch(\"IJBBCCIJDDL.IJAAL.EEK.L...KFF..GGHH. F0 G6\")"
   ]
  },
  {
   "cell_type": "code",
   "execution_count": 4,
   "metadata": {},
   "outputs": [],
   "source": [
    "# for i in range(5):\n",
    "# \tuniformCostSearch(examples[i], i+1, \"example-reports/ucs-example\")"
   ]
  },
  {
   "cell_type": "markdown",
   "metadata": {},
   "source": [
    "### Greedy Best First Search\n",
    "In this implementation we use a heuristic to determine which nodes to explore. This does not guarantee an optimal solution."
   ]
  },
  {
   "cell_type": "code",
   "execution_count": 4,
   "metadata": {},
   "outputs": [],
   "source": [
    "def greedyBestFirstSearch(puzzleLine:str, heuristic, reportNumber=0, outputFileName=\"gbfs\", shouldWriteReport=True):\n",
    "\t\"\"\"\n",
    "\tPerforms greedy best first search to find the solution of the puzzle.\n",
    "\tCreates the solution file and search file, based on the given name.\n",
    "\tReturns the goal node.\n",
    "\t\"\"\"\n",
    "\n",
    "\t# Preparing report.\n",
    "\treporter = Reporter(puzzleLine)\n",
    "\treporter.startTimer()\n",
    "\n",
    "\t# Setting things up.\n",
    "\troot = generateStartNode(puzzleLine)\n",
    "\topenList = PriorityQueue(lambda n: heuristic(n)) # The minimizing function is simply the heuristic.\n",
    "\topenList.insert(root)\n",
    "\tclosedList = dict()\n",
    "\tgoalNode = None\n",
    "\n",
    "\t# Main loop.\n",
    "\twhile not openList.isEmpty():\n",
    "\n",
    "\t\tvisiting = openList.removeMin()\n",
    "\t\treporter.countVisit()\n",
    "\t\treporter.addToSearchPath(visiting, lambda n: 0, lambda n: 0, lambda n: heuristic(n))\n",
    "\n",
    "\t\tif visiting.isGoal():\n",
    "\t\t\tgoalNode = visiting\n",
    "\t\t\tbreak\n",
    "\t\telse:\n",
    "\t\t\tclosedList[str(visiting)] = visiting\n",
    "\n",
    "\t\tchildren = visiting.expandChildren()\n",
    "\n",
    "\t\tfor child in children:\n",
    "\t\t\tif child.isGoal():\n",
    "\t\t\t\tgoalNode = child\n",
    "\t\t\t\tbreak\n",
    "\n",
    "\t\t\tif closedList.get(str(child)) is not None: # Avoid visiting already visited nodes.\n",
    "\t\t\t\tcontinue\n",
    "\n",
    "\t\t\tif openList.getValue(child) is not None: # Avoid visiting a child node already in the open list. Heuristics don't change.\n",
    "\t\t\t\tcontinue\n",
    "\n",
    "\t\t\topenList.insert(child)\n",
    "\n",
    "\t\tif goalNode is not None:\n",
    "\t\t\t# Counting the child if it's the goal node.\n",
    "\t\t\treporter.countVisit()\n",
    "\t\t\treporter.addToSearchPath(visiting, lambda n: 0, lambda n: 0, lambda n: heuristic(n))\n",
    "\t\t\tbreak\n",
    "\n",
    "\t# Finalizing report.\n",
    "\treporter.endTimer()\n",
    "\treporter.setGoalNode(goalNode)\n",
    "\treport = reporter.generateSolutionReport()\n",
    "\n",
    "\tif shouldWriteReport:\n",
    "\t\tsolutionFileName = f\"{outputFileName}-sol-{reportNumber}.txt\"\n",
    "\t\tsearchFileName = f\"{outputFileName}-search-{reportNumber}.txt\"\n",
    "\n",
    "\t\twith open(solutionFileName, \"w\") as file:\n",
    "\t\t\tfile.write(report)\n",
    "\n",
    "\t\twith open(searchFileName, \"w\") as file:\n",
    "\t\t\tfile.write(\"\\n\".join(reporter.searchPath))\n",
    "\n",
    "\treturn goalNode, reporter\n",
    "\n",
    "\t"
   ]
  },
  {
   "cell_type": "code",
   "execution_count": 6,
   "metadata": {},
   "outputs": [],
   "source": [
    "# for i in range(5):\n",
    "# \tgreedyBestFirstSearch(examples[i], h1, i+1, \"example-reports/gbfs-example\")"
   ]
  },
  {
   "cell_type": "markdown",
   "metadata": {},
   "source": [
    "### Algorithm A Search\n",
    "This implementation of algorithm A considers both the cost and the heuristic when choosing which node to visit."
   ]
  },
  {
   "cell_type": "code",
   "execution_count": 5,
   "metadata": {},
   "outputs": [],
   "source": [
    "def algorithmA(puzzleLine:str, heuristic, reportNumber=0, outputFileName=\"a\", shouldWriteReport=True):\n",
    "\t\"\"\"\n",
    "\tPerforms greedy best first search to find the solution of the puzzle.\n",
    "\tCreates the solution file and search file, based on the given name.\n",
    "\tReturns the goal node.\n",
    "\t\"\"\"\n",
    "\n",
    "\t# Preparing report.\n",
    "\treporter = Reporter(puzzleLine)\n",
    "\treporter.startTimer()\n",
    "\n",
    "\t# Setting things up.\n",
    "\tf = lambda n: heuristic(n) + n.cost()\n",
    "\th = lambda n: heuristic(n)\n",
    "\tg = lambda n: n.cost()\n",
    "\n",
    "\troot = generateStartNode(puzzleLine)\n",
    "\topenList = PriorityQueue(f) # The minimizing function is simply the cost.\n",
    "\topenList.insert(root)\n",
    "\tclosedList = dict()\n",
    "\tgoalNode = None\n",
    "\n",
    "\t# Main loop.\n",
    "\twhile not openList.isEmpty():\n",
    "\n",
    "\t\tvisiting = openList.removeMin()\n",
    "\t\treporter.countVisit()\n",
    "\t\treporter.addToSearchPath(visiting, f, g, h)\n",
    "\n",
    "\t\tif visiting.isGoal():\n",
    "\t\t\tgoalNode = visiting\n",
    "\t\t\tbreak\n",
    "\t\telse:\n",
    "\t\t\tclosedList[str(visiting)] = visiting\n",
    "\n",
    "\t\tchildren = visiting.expandChildren()\n",
    "\n",
    "\t\tfor child in children:\n",
    "\t\t\t\n",
    "\t\t\tclosedNode = closedList.get(str(child))\n",
    "\t\t\topenNode = openList.getValue(child)\n",
    "\t\t\t\n",
    "\t\t\tif closedNode is not None: # Handling the closed list.\n",
    "\t\t\t\tif f(child) < f(closedNode):\n",
    "\t\t\t\t\tclosedList.pop(str(child))\n",
    "\t\t\t\t\topenList.insert(child)\n",
    "\t\t\t\tcontinue\n",
    "\t\t\telif openNode is not None: # Handling open list.\n",
    "\t\t\t\tif f(child) < f(openNode):\n",
    "\t\t\t\t\topenList.updateValue(child)\n",
    "\t\t\t\tcontinue\n",
    "\t\t\telse:\n",
    "\t\t\t\topenList.insert(child)\n",
    "\n",
    "\t# Finalizing report.\n",
    "\treporter.endTimer()\n",
    "\treporter.setGoalNode(goalNode)\n",
    "\treport = reporter.generateSolutionReport()\n",
    "\n",
    "\tif shouldWriteReport:\n",
    "\t\tsolutionFileName = f\"{outputFileName}-sol-{reportNumber}.txt\"\n",
    "\t\tsearchFileName = f\"{outputFileName}-search-{reportNumber}.txt\"\n",
    "\n",
    "\t\twith open(solutionFileName, \"w\") as file:\n",
    "\t\t\tfile.write(report)\n",
    "\n",
    "\t\twith open(searchFileName, \"w\") as file:\n",
    "\t\t\tfile.write(\"\\n\".join(reporter.searchPath))\n",
    "\n",
    "\treturn goalNode, reporter\n",
    "\n",
    "\t"
   ]
  },
  {
   "cell_type": "code",
   "execution_count": 8,
   "metadata": {},
   "outputs": [],
   "source": [
    "# for i in range(5):\n",
    "# \talgorithmA(examples[i], h5, i+1, \"example-reports/a-example-h5\")"
   ]
  },
  {
   "cell_type": "markdown",
   "metadata": {},
   "source": [
    "## Report Generation\n",
    "Takes in a file and writes reports for each puzzle. This includes all solution files and search files."
   ]
  },
  {
   "cell_type": "code",
   "execution_count": 6,
   "metadata": {},
   "outputs": [],
   "source": [
    "def generateReports(fileName, outputDirectory=\"\"):\n",
    "\tpuzzles = extractPuzzleLines(fileName)\n",
    "\n",
    "\tfor i in range(len(puzzles)):\n",
    "\t\tstartTime = time.time()\n",
    "\t\t\n",
    "\t\tuniformCostSearch(puzzles[i], i, outputDirectory + \"ucs\")\n",
    "\n",
    "\t\tgreedyBestFirstSearch(puzzles[i], h1, i, outputDirectory + \"gbfs-h1\")\n",
    "\t\tgreedyBestFirstSearch(puzzles[i], h2, i, outputDirectory + \"gbfs-h2\")\n",
    "\t\tgreedyBestFirstSearch(puzzles[i], h3, i, outputDirectory + \"gbfs-h3\")\n",
    "\t\tgreedyBestFirstSearch(puzzles[i], h4, i, outputDirectory + \"gbfs-h4\")\n",
    "\t\tgreedyBestFirstSearch(puzzles[i], h5, i, outputDirectory + \"gbfs-h5\")\n",
    "\n",
    "\t\talgorithmA(puzzles[i], h1, i, outputDirectory + \"a-h1\")\n",
    "\t\talgorithmA(puzzles[i], h2, i, outputDirectory + \"a-h2\")\n",
    "\t\talgorithmA(puzzles[i], h3, i, outputDirectory + \"a-h3\")\n",
    "\t\talgorithmA(puzzles[i], h4, i, outputDirectory + \"a-h4\")\n",
    "\t\talgorithmA(puzzles[i], h5, i, outputDirectory + \"a-h5\")\n",
    "\n",
    "\t\tendTime = time.time()\t\n",
    "\t\tprint(f\"Done with item {i} after {endTime - startTime} s.\")"
   ]
  },
  {
   "cell_type": "code",
   "execution_count": 7,
   "metadata": {},
   "outputs": [
    {
     "name": "stdout",
     "output_type": "stream",
     "text": [
      "Done with item 0 after 0.12494230270385742 s.\n",
      "Done with item 1 after 19.91180920600891 s.\n"
     ]
    }
   ],
   "source": [
    "generateReports(\"sample-input.txt\", \"sample-output/\")"
   ]
  },
  {
   "cell_type": "markdown",
   "metadata": {},
   "source": [
    "## Analysis Generation\n",
    "We can create a function that generates a CSV file that can easily be exported into a spreadsheet for more analysis."
   ]
  },
  {
   "cell_type": "code",
   "execution_count": 11,
   "metadata": {},
   "outputs": [],
   "source": [
    "def generateLine(puzzleNum:int, algorithm:str, heuristic:str, reporter:Reporter):\n",
    "\tsearchPathLength = reporter.nodesVisited\n",
    "\texecutionTime = reporter.timeElapsed()\n",
    "\n",
    "\tif reporter.goalNode is None:\n",
    "\t\tsolutionLength = \"N/A\"\n",
    "\telse:\n",
    "\t\tsolutionLength = reporter.countTotalMoves()\n",
    "\n",
    "\treturn \"{},{},{},{},{},{}\".format(puzzleNum, algorithm, heuristic, solutionLength, searchPathLength, executionTime)"
   ]
  },
  {
   "cell_type": "code",
   "execution_count": 12,
   "metadata": {},
   "outputs": [],
   "source": [
    "def generateSpreadsheet(inputFileName, outputFileName):\n",
    "\tpuzzles = extractPuzzleLines(inputFileName)\n",
    "\tresults = list()\n",
    "\tresults.append(\"Puzzle Number,Algorithm,Heuristic,Length of the Solution,Length of the Search Path,Execution Time (in seconds)\")\n",
    "\t\n",
    "\tfor i in range(len(puzzles)):\n",
    "\t\tstartTime = time.time()\n",
    "\n",
    "\t\treporter1 = uniformCostSearch(puzzles[i], i, shouldWriteReport=False)[1]\n",
    "\t\tresults.append(generateLine(i, \"UCS\", \"N/A\", reporter1))\n",
    "\n",
    "\t\treporter1 = greedyBestFirstSearch(puzzles[i], h1, i, shouldWriteReport=False)[1]\n",
    "\t\treporter2 = greedyBestFirstSearch(puzzles[i], h2, i, shouldWriteReport=False)[1]\n",
    "\t\treporter3 = greedyBestFirstSearch(puzzles[i], h3, i, shouldWriteReport=False)[1]\n",
    "\t\treporter4 = greedyBestFirstSearch(puzzles[i], h4, i, shouldWriteReport=False)[1]\n",
    "\t\treporter5 = greedyBestFirstSearch(puzzles[i], h5, i, shouldWriteReport=False)[1]\n",
    "\t\tresults.append(generateLine(i, \"GBFS\", \"h1\", reporter1))\n",
    "\t\tresults.append(generateLine(i, \"GBFS\", \"h2\", reporter2))\n",
    "\t\tresults.append(generateLine(i, \"GBFS\", \"h3\", reporter3))\n",
    "\t\tresults.append(generateLine(i, \"GBFS\", \"h4\", reporter4))\n",
    "\t\tresults.append(generateLine(i, \"GBFS\", \"h5\", reporter5))\n",
    "\n",
    "\t\treporter1 = algorithmA(puzzles[i], h1, i, shouldWriteReport=False)[1]\n",
    "\t\treporter2 = algorithmA(puzzles[i], h2, i, shouldWriteReport=False)[1]\n",
    "\t\treporter3 = algorithmA(puzzles[i], h3, i, shouldWriteReport=False)[1]\n",
    "\t\treporter4 = algorithmA(puzzles[i], h4, i, shouldWriteReport=False)[1]\n",
    "\t\treporter5 = algorithmA(puzzles[i], h5, i, shouldWriteReport=False)[1]\n",
    "\t\tresults.append(generateLine(i, \"A/A*\", \"h1\", reporter1))\n",
    "\t\tresults.append(generateLine(i, \"A/A*\", \"h2\", reporter2))\n",
    "\t\tresults.append(generateLine(i, \"A/A*\", \"h3\", reporter3))\n",
    "\t\tresults.append(generateLine(i, \"A/A*\", \"h4\", reporter4))\n",
    "\t\tresults.append(generateLine(i, \"A/A*\", \"h5\", reporter5))\n",
    "\n",
    "\t\tendTime = time.time()\t\n",
    "\t\tprint(f\"Done with item {i} after {endTime - startTime} s.\")\n",
    "\n",
    "\twith open(outputFileName + \".csv\", \"w\") as file:\n",
    "\t\tfile.write(\"\\n\".join(results))"
   ]
  },
  {
   "cell_type": "code",
   "execution_count": 13,
   "metadata": {},
   "outputs": [
    {
     "name": "stdout",
     "output_type": "stream",
     "text": [
      "Done with item 0 after 0.08552789688110352 s.\n"
     ]
    }
   ],
   "source": [
    "generateSpreadsheet(\"sample-input.txt\", \"sample-analysis\")"
   ]
  }
 ],
 "metadata": {
  "kernelspec": {
   "display_name": "Python 3.9.6 64-bit",
   "language": "python",
   "name": "python3"
  },
  "language_info": {
   "codemirror_mode": {
    "name": "ipython",
    "version": 3
   },
   "file_extension": ".py",
   "mimetype": "text/x-python",
   "name": "python",
   "nbconvert_exporter": "python",
   "pygments_lexer": "ipython3",
   "version": "3.9.6"
  },
  "orig_nbformat": 4,
  "vscode": {
   "interpreter": {
    "hash": "81794d4967e6c3204c66dcd87b604927b115b27c00565d3d43f05ba2f3a2cb0d"
   }
  }
 },
 "nbformat": 4,
 "nbformat_minor": 2
}
